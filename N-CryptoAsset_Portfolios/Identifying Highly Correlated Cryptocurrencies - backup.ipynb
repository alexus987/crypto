{
 "cells": [
  {
   "cell_type": "code",
   "execution_count": 17,
   "metadata": {
    "collapsed": true
   },
   "outputs": [],
   "source": [
    "## 1. N-Cryptocurrency Portfolios in Python ##"
   ]
  },
  {
   "cell_type": "code",
   "execution_count": 18,
   "metadata": {
    "collapsed": true
   },
   "outputs": [],
   "source": [
    "# N-CryptoAsset Portfolios: Identifying Highly Correlated \n",
    "# Cryptocurrencies using PCA\n",
    "#\n",
    "# (c) 2017 QuantAtRisk.com, by Pawel Lachowicz\n",
    " \n",
    " \n",
    "import numpy as np\n",
    "import pandas as pd\n",
    "from scipy import stats\n",
    "from matplotlib import pyplot as plt\n",
    "from matplotlib.ticker import MaxNLocator\n",
    "from datetime import datetime\n",
    "import json\n",
    "from bs4 import BeautifulSoup\n",
    "import requests\n",
    " \n",
    "# define some custom colours\n",
    "grey = .6, .6, .6\n",
    " \n",
    " \n",
    "def timestamp2date(timestamp):\n",
    "    # function converts a Unix timestamp into Gregorian date\n",
    "    return datetime.fromtimestamp(int(timestamp)).strftime('%Y-%m-%d')\n",
    " \n",
    "def date2timestamp(date):\n",
    "    # function coverts Gregorian date in a given format to timestamp\n",
    "    return datetime.strptime(date_today, '%Y-%m-%d').timestamp()\n",
    " \n",
    "def fetchCryptoClose(fsym, tsym):\n",
    "    # function fetches the close-price time-series from cryptocompare.com\n",
    "    # it may ignore USDT coin (due to near-zero pricing)\n",
    "    # daily sampled\n",
    "    cols = ['date', 'timestamp', fsym]\n",
    "    lst = ['time', 'open', 'high', 'low', 'close']\n",
    "    timestamp_today = datetime.today().timestamp()\n",
    "    curr_timestamp = timestamp_today\n",
    " \n",
    "    for j in range(2):\n",
    "        df = pd.DataFrame(columns=cols)\n",
    "        url = \"https://min-api.cryptocompare.com/data/histoday?fsym=\" + fsym + \"&tsym=\" + tsym + \"&toTs=\" + str(int(curr_timestamp)) + \"&limit=2000\"\n",
    "        response = requests.get(url)\n",
    "        soup = BeautifulSoup(response.content, \"html.parser\")\n",
    "        dic = json.loads(soup.prettify())\n",
    "        for i in range(1, 2001):\n",
    "            tmp = []\n",
    "            for e in enumerate(lst):\n",
    "                x = e[0]\n",
    "                y = dic['Data'][i][e[1]]\n",
    "                if(x == 0):\n",
    "                    tmp.append(str(timestamp2date(y)))\n",
    "                tmp.append(y)\n",
    "            if(np.sum(tmp[-4::]) > 0):  # remove for USDT\n",
    "                tmp = np.array(tmp)\n",
    "                tmp = tmp[[0,1,4]]  # filter solely for close prices\n",
    "                df.loc[len(df)] = np.array(tmp)\n",
    "        # ensure a correct date format\n",
    "        df.index = pd.to_datetime(df.date, format=\"%Y-%m-%d\")\n",
    "        df.drop('date', axis=1, inplace=True)\n",
    "        curr_timestamp = int(df.ix[0][0])\n",
    "        if(j == 0):\n",
    "            df0 = df.copy()\n",
    "        else:\n",
    "            data = pd.concat([df, df0], axis=0)\n",
    "    data.drop(\"timestamp\", axis=1, inplace=True)\n",
    " \n",
    "    return data  # DataFrame"
   ]
  },
  {
   "cell_type": "code",
   "execution_count": 19,
   "metadata": {
    "collapsed": true
   },
   "outputs": [],
   "source": [
    "# N-Cryptocurrency Portfolio (tickers)\n",
    "fsym = ['BTC', 'ETH', 'DASH', 'XMR', 'XRP', 'LTC', 'ETC', 'XEM', 'REP', \n",
    "        'MAID', 'ZEC', 'STEEM', 'GNT', 'FCT', 'ICN', 'DGD', \n",
    "        'WAVES', 'DCR', 'LSK', 'DOGE', 'PIVX']\n",
    "# vs. \n",
    "tsym = 'USD'"
   ]
  },
  {
   "cell_type": "code",
   "execution_count": 20,
   "metadata": {
    "collapsed": false
   },
   "outputs": [
    {
     "name": "stdout",
     "output_type": "stream",
     "text": [
      "0 BTC\n"
     ]
    },
    {
     "name": "stderr",
     "output_type": "stream",
     "text": [
      "C:\\Users\\as\\Anaconda2\\envs\\Python3\\lib\\site-packages\\ipykernel\\__main__.py:59: DeprecationWarning:\n",
      "\n",
      "\n",
      ".ix is deprecated. Please use\n",
      ".loc for label based indexing or\n",
      ".iloc for positional indexing\n",
      "\n",
      "See the documentation here:\n",
      "http://pandas.pydata.org/pandas-docs/stable/indexing.html#ix-indexer-is-deprecated\n",
      "\n"
     ]
    },
    {
     "name": "stdout",
     "output_type": "stream",
     "text": [
      "1 ETH\n",
      "2 DASH\n",
      "3 XMR\n",
      "4 XRP\n",
      "5 LTC\n",
      "6 ETC\n",
      "7 XEM\n",
      "8 REP\n",
      "9 MAID\n",
      "10 ZEC\n",
      "11 STEEM\n",
      "12 GNT\n",
      "13 FCT\n",
      "14 ICN\n",
      "15 DGD\n",
      "16 WAVES\n",
      "17 DCR\n",
      "18 LSK\n",
      "19 DOGE\n",
      "20 PIVX\n",
      "                   BTC     ETH    DASH     XMR     XRP    LTC    ETC     XEM  \\\n",
      "date                                                                           \n",
      "2010-07-17     0.04951     NaN     NaN     NaN     NaN    NaN    NaN     NaN   \n",
      "2010-07-18     0.05941     NaN     NaN     NaN     NaN    NaN    NaN     NaN   \n",
      "2010-07-19     0.07723     NaN     NaN     NaN     NaN    NaN    NaN     NaN   \n",
      "2010-07-20     0.07426     NaN     NaN     NaN     NaN    NaN    NaN     NaN   \n",
      "2010-07-21     0.06634     NaN     NaN     NaN     NaN    NaN    NaN     NaN   \n",
      "2010-07-22     0.05050     NaN     NaN     NaN     NaN    NaN    NaN     NaN   \n",
      "2010-07-23     0.05050     NaN     NaN     NaN     NaN    NaN    NaN     NaN   \n",
      "2010-07-24     0.05049     NaN     NaN     NaN     NaN    NaN    NaN     NaN   \n",
      "2010-07-25     0.05050     NaN     NaN     NaN     NaN    NaN    NaN     NaN   \n",
      "2010-07-26     0.05000     NaN     NaN     NaN     NaN    NaN    NaN     NaN   \n",
      "2010-07-27     0.05300     NaN     NaN     NaN     NaN    NaN    NaN     NaN   \n",
      "2010-07-28     0.05400     NaN     NaN     NaN     NaN    NaN    NaN     NaN   \n",
      "2010-07-29     0.05710     NaN     NaN     NaN     NaN    NaN    NaN     NaN   \n",
      "2010-07-30     0.05820     NaN     NaN     NaN     NaN    NaN    NaN     NaN   \n",
      "2010-07-31     0.05600     NaN     NaN     NaN     NaN    NaN    NaN     NaN   \n",
      "2010-08-01     0.06000     NaN     NaN     NaN     NaN    NaN    NaN     NaN   \n",
      "2010-08-02     0.06000     NaN     NaN     NaN     NaN    NaN    NaN     NaN   \n",
      "2010-08-03     0.05900     NaN     NaN     NaN     NaN    NaN    NaN     NaN   \n",
      "2010-08-04     0.05700     NaN     NaN     NaN     NaN    NaN    NaN     NaN   \n",
      "2010-08-05     0.05800     NaN     NaN     NaN     NaN    NaN    NaN     NaN   \n",
      "2010-08-06     0.06070     NaN     NaN     NaN     NaN    NaN    NaN     NaN   \n",
      "2010-08-07     0.05900     NaN     NaN     NaN     NaN    NaN    NaN     NaN   \n",
      "2010-08-08     0.05900     NaN     NaN     NaN     NaN    NaN    NaN     NaN   \n",
      "2010-08-09     0.05930     NaN     NaN     NaN     NaN    NaN    NaN     NaN   \n",
      "2010-08-10     0.06651     NaN     NaN     NaN     NaN    NaN    NaN     NaN   \n",
      "2010-08-11     0.06000     NaN     NaN     NaN     NaN    NaN    NaN     NaN   \n",
      "2010-08-12     0.06141     NaN     NaN     NaN     NaN    NaN    NaN     NaN   \n",
      "2010-08-13     0.06450     NaN     NaN     NaN     NaN    NaN    NaN     NaN   \n",
      "2010-08-14     0.06450     NaN     NaN     NaN     NaN    NaN    NaN     NaN   \n",
      "2010-08-15     0.06500     NaN     NaN     NaN     NaN    NaN    NaN     NaN   \n",
      "...                ...     ...     ...     ...     ...    ...    ...     ...   \n",
      "2017-08-06  3166.52000  251.79  187.03   47.34  0.1786  45.16  15.36  0.2178   \n",
      "2017-08-07  3198.51000  257.41  186.21   47.07  0.1766  45.21  14.55  0.2445   \n",
      "2017-08-08  3357.15000  266.94  192.93   49.76  0.1772  45.69  15.14  0.2542   \n",
      "2017-08-09  3251.03000  279.10  193.21   49.60  0.1818  46.90  15.15  0.2473   \n",
      "2017-08-10  3322.92000  289.22  195.00   49.38  0.1784  46.97  15.16  0.2761   \n",
      "2017-08-11  3409.79000  295.94  198.26   48.59  0.1758  46.63  14.87  0.2688   \n",
      "2017-08-12  3611.36000  303.71  200.62   46.06  0.1707  46.00  14.44  0.2513   \n",
      "2017-08-13  3847.31000  288.04  187.07   43.82  0.1587  44.00  13.78  0.2353   \n",
      "2017-08-14  3978.95000  294.74  194.08   46.50  0.1652  45.15  13.77  0.2112   \n",
      "2017-08-15  3837.13000  271.38  190.63   45.30  0.1530  41.78  13.07  0.1928   \n",
      "2017-08-16  3938.62000  280.66  197.78   47.09  0.1489  42.10  13.17  0.2279   \n",
      "2017-08-17  4194.10000  298.19  228.47   47.09  0.1540  43.13  13.57  0.2330   \n",
      "2017-08-18  3978.28000  287.17  217.13   45.55  0.1518  43.23  12.51  0.2168   \n",
      "2017-08-19  3957.46000  283.65  222.56   46.47  0.1483  43.39  13.04  0.2235   \n",
      "2017-08-20  4034.40000  288.48  283.76   51.92  0.1494  44.07  13.27  0.2480   \n",
      "2017-08-21  3966.93000  294.93  275.80   52.67  0.1523  45.27  13.72  0.2355   \n",
      "2017-08-22  3612.21000  293.09  261.03   71.89  0.1715  44.85  13.37  0.2112   \n",
      "2017-08-23  4070.49000  313.16  286.68   85.37  0.2169  46.05  14.19  0.2356   \n",
      "2017-08-24  4111.71000  315.94  290.56   79.26  0.2124  50.34  15.04  0.2406   \n",
      "2017-08-25  4292.63000  324.69  306.21   85.09  0.2029  49.78  14.99  0.2501   \n",
      "2017-08-26  4263.28000  325.90  314.22  104.67  0.2069  50.09  14.87  0.2567   \n",
      "2017-08-27  4321.12000  332.80  355.84  124.24  0.1930  51.37  15.15  0.2611   \n",
      "2017-08-28  4195.23000  335.41  347.91  128.06  0.1947  58.87  15.52  0.2638   \n",
      "2017-08-29  4350.22000  347.24  352.72  127.66  0.2125  61.17  15.56  0.2650   \n",
      "2017-08-30  4491.79000  367.41  358.43  122.44  0.2175  61.86  15.73  0.2750   \n",
      "2017-08-31  4580.13000  380.89  369.39  132.24  0.2275  65.12  15.89  0.2934   \n",
      "2017-09-01  4690.17000  386.71  375.96  136.06  0.2444  71.50  16.31  0.3095   \n",
      "2017-09-02  4448.64000  328.87  326.69  120.74  0.2185  73.29  18.25  0.2773   \n",
      "2017-09-03  4397.74000  336.37  333.87  111.80  0.2168  74.95  18.32  0.2822   \n",
      "2017-09-04  4098.58000  279.95  296.03  100.09  0.1901  62.97  15.87  0.2496   \n",
      "\n",
      "              REP    MAID  ...    STEEM     GNT    FCT   ICN    DGD  WAVES  \\\n",
      "date                       ...                                               \n",
      "2010-07-17    NaN     NaN  ...      NaN     NaN    NaN   NaN    NaN    NaN   \n",
      "2010-07-18    NaN     NaN  ...      NaN     NaN    NaN   NaN    NaN    NaN   \n",
      "2010-07-19    NaN     NaN  ...      NaN     NaN    NaN   NaN    NaN    NaN   \n",
      "2010-07-20    NaN     NaN  ...      NaN     NaN    NaN   NaN    NaN    NaN   \n",
      "2010-07-21    NaN     NaN  ...      NaN     NaN    NaN   NaN    NaN    NaN   \n",
      "2010-07-22    NaN     NaN  ...      NaN     NaN    NaN   NaN    NaN    NaN   \n",
      "2010-07-23    NaN     NaN  ...      NaN     NaN    NaN   NaN    NaN    NaN   \n",
      "2010-07-24    NaN     NaN  ...      NaN     NaN    NaN   NaN    NaN    NaN   \n",
      "2010-07-25    NaN     NaN  ...      NaN     NaN    NaN   NaN    NaN    NaN   \n",
      "2010-07-26    NaN     NaN  ...      NaN     NaN    NaN   NaN    NaN    NaN   \n",
      "2010-07-27    NaN     NaN  ...      NaN     NaN    NaN   NaN    NaN    NaN   \n",
      "2010-07-28    NaN     NaN  ...      NaN     NaN    NaN   NaN    NaN    NaN   \n",
      "2010-07-29    NaN     NaN  ...      NaN     NaN    NaN   NaN    NaN    NaN   \n",
      "2010-07-30    NaN     NaN  ...      NaN     NaN    NaN   NaN    NaN    NaN   \n",
      "2010-07-31    NaN     NaN  ...      NaN     NaN    NaN   NaN    NaN    NaN   \n",
      "2010-08-01    NaN     NaN  ...      NaN     NaN    NaN   NaN    NaN    NaN   \n",
      "2010-08-02    NaN     NaN  ...      NaN     NaN    NaN   NaN    NaN    NaN   \n",
      "2010-08-03    NaN     NaN  ...      NaN     NaN    NaN   NaN    NaN    NaN   \n",
      "2010-08-04    NaN     NaN  ...      NaN     NaN    NaN   NaN    NaN    NaN   \n",
      "2010-08-05    NaN     NaN  ...      NaN     NaN    NaN   NaN    NaN    NaN   \n",
      "2010-08-06    NaN     NaN  ...      NaN     NaN    NaN   NaN    NaN    NaN   \n",
      "2010-08-07    NaN     NaN  ...      NaN     NaN    NaN   NaN    NaN    NaN   \n",
      "2010-08-08    NaN     NaN  ...      NaN     NaN    NaN   NaN    NaN    NaN   \n",
      "2010-08-09    NaN     NaN  ...      NaN     NaN    NaN   NaN    NaN    NaN   \n",
      "2010-08-10    NaN     NaN  ...      NaN     NaN    NaN   NaN    NaN    NaN   \n",
      "2010-08-11    NaN     NaN  ...      NaN     NaN    NaN   NaN    NaN    NaN   \n",
      "2010-08-12    NaN     NaN  ...      NaN     NaN    NaN   NaN    NaN    NaN   \n",
      "2010-08-13    NaN     NaN  ...      NaN     NaN    NaN   NaN    NaN    NaN   \n",
      "2010-08-14    NaN     NaN  ...      NaN     NaN    NaN   NaN    NaN    NaN   \n",
      "2010-08-15    NaN     NaN  ...      NaN     NaN    NaN   NaN    NaN    NaN   \n",
      "...           ...     ...  ...      ...     ...    ...   ...    ...    ...   \n",
      "2017-08-06  18.36  0.3382  ...   1.2800  0.2963  19.41  2.80  65.77   4.14   \n",
      "2017-08-07  18.43  0.3310  ...   1.2300  0.2849  18.50  2.62  65.25   4.83   \n",
      "2017-08-08  18.81  0.3434  ...   1.2800  0.2911  19.45  2.53  71.94   4.87   \n",
      "2017-08-09  21.23  0.3375  ...   1.2700  0.2855  19.31  2.78  76.63   4.89   \n",
      "2017-08-10  22.61  0.3449  ...   1.1800  0.2627  18.84  2.50  70.11   5.14   \n",
      "2017-08-11  21.92  0.3356  ...   1.0700  0.2643  17.90  2.55  73.34   4.95   \n",
      "2017-08-12  21.34  0.3555  ...   1.1200  0.2848  17.49  2.79  75.69   4.52   \n",
      "2017-08-13  20.51  0.3060  ...   1.1100  0.2561  15.22  2.58  71.18   4.23   \n",
      "2017-08-14  19.32  0.3221  ...   1.0200  0.2241  15.18  2.64  70.75   4.21   \n",
      "2017-08-15  19.34  0.3148  ...   0.9520  0.2144  14.45  2.52  63.31   3.85   \n",
      "2017-08-16  20.11  0.3590  ...   1.0300  0.2343  16.35  2.59  69.83   4.18   \n",
      "2017-08-17  19.99  0.3833  ...   1.0000  0.2291  17.92  2.76  73.31   4.32   \n",
      "2017-08-18  18.43  0.3886  ...   0.9978  0.2163  17.95  2.71  70.18   3.99   \n",
      "2017-08-19  18.40  0.4001  ...   0.8979  0.2156  19.85  2.87  69.89   3.97   \n",
      "2017-08-20  19.00  0.4208  ...   0.9997  0.2423  19.91  3.01  70.04   4.20   \n",
      "2017-08-21  20.22  0.4498  ...   1.1400  0.2531  21.87  2.97  74.14   4.26   \n",
      "2017-08-22  19.49  0.4010  ...   1.0300  0.2386  19.53  2.81  67.84   3.69   \n",
      "2017-08-23  20.46  0.4425  ...   1.1700  0.2629  22.44  2.86  76.57   4.40   \n",
      "2017-08-24  21.50  0.4617  ...   1.1800  0.2733  23.20  2.68  80.01   4.44   \n",
      "2017-08-25  22.74  0.4864  ...   1.2300  0.2814  26.10  2.13  90.53   4.90   \n",
      "2017-08-26  24.79  0.5248  ...   1.2700  0.2825  26.92  2.36  91.19   5.01   \n",
      "2017-08-27  27.09  0.5846  ...   1.3700  0.2914  28.32  2.50  90.27   5.09   \n",
      "2017-08-28  20.10  0.5706  ...   1.3300  0.2906  27.83  2.23  87.72   4.95   \n",
      "2017-08-29  23.17  0.5703  ...   1.3100  0.2899  27.85  2.00  81.35   4.82   \n",
      "2017-08-30  23.69  0.5911  ...   1.3500  0.3063  27.54  2.27  92.67   5.04   \n",
      "2017-08-31  24.78  0.6316  ...   1.3800  0.3201  27.74  2.35  95.22   5.16   \n",
      "2017-09-01  26.11  0.6285  ...   1.4100  0.3290  29.03  2.45  89.63   5.47   \n",
      "2017-09-02  22.60  0.6259  ...   1.1900  0.3146  25.58  2.34  84.48   4.98   \n",
      "2017-09-03  23.14  0.6276  ...   1.2200  0.3093  25.66  2.28  80.83   4.89   \n",
      "2017-09-04  20.36  0.4676  ...   1.0100  0.2479  20.78  1.76  66.93   4.11   \n",
      "\n",
      "              DCR   LSK      DOGE  PIVX  \n",
      "date                                     \n",
      "2010-07-17    NaN   NaN       NaN   NaN  \n",
      "2010-07-18    NaN   NaN       NaN   NaN  \n",
      "2010-07-19    NaN   NaN       NaN   NaN  \n",
      "2010-07-20    NaN   NaN       NaN   NaN  \n",
      "2010-07-21    NaN   NaN       NaN   NaN  \n",
      "2010-07-22    NaN   NaN       NaN   NaN  \n",
      "2010-07-23    NaN   NaN       NaN   NaN  \n",
      "2010-07-24    NaN   NaN       NaN   NaN  \n",
      "2010-07-25    NaN   NaN       NaN   NaN  \n",
      "2010-07-26    NaN   NaN       NaN   NaN  \n",
      "2010-07-27    NaN   NaN       NaN   NaN  \n",
      "2010-07-28    NaN   NaN       NaN   NaN  \n",
      "2010-07-29    NaN   NaN       NaN   NaN  \n",
      "2010-07-30    NaN   NaN       NaN   NaN  \n",
      "2010-07-31    NaN   NaN       NaN   NaN  \n",
      "2010-08-01    NaN   NaN       NaN   NaN  \n",
      "2010-08-02    NaN   NaN       NaN   NaN  \n",
      "2010-08-03    NaN   NaN       NaN   NaN  \n",
      "2010-08-04    NaN   NaN       NaN   NaN  \n",
      "2010-08-05    NaN   NaN       NaN   NaN  \n",
      "2010-08-06    NaN   NaN       NaN   NaN  \n",
      "2010-08-07    NaN   NaN       NaN   NaN  \n",
      "2010-08-08    NaN   NaN       NaN   NaN  \n",
      "2010-08-09    NaN   NaN       NaN   NaN  \n",
      "2010-08-10    NaN   NaN       NaN   NaN  \n",
      "2010-08-11    NaN   NaN       NaN   NaN  \n",
      "2010-08-12    NaN   NaN       NaN   NaN  \n",
      "2010-08-13    NaN   NaN       NaN   NaN  \n",
      "2010-08-14    NaN   NaN       NaN   NaN  \n",
      "2010-08-15    NaN   NaN       NaN   NaN  \n",
      "...           ...   ...       ...   ...  \n",
      "2017-08-06  29.43  2.02  0.001801  1.74  \n",
      "2017-08-07  27.32  1.84  0.001858  1.79  \n",
      "2017-08-08  28.99  1.93  0.001881  1.85  \n",
      "2017-08-09  26.95  2.20  0.001853  1.85  \n",
      "2017-08-10  27.33  2.19  0.001843  1.96  \n",
      "2017-08-11  24.55  2.13  0.001800  1.87  \n",
      "2017-08-12  23.44  2.20  0.001745  1.81  \n",
      "2017-08-13  22.26  2.05  0.001405  1.66  \n",
      "2017-08-14  19.93  2.12  0.001688  1.54  \n",
      "2017-08-15  20.00  2.07  0.001591  1.36  \n",
      "2017-08-16  22.99  2.07  0.001663  1.66  \n",
      "2017-08-17  22.90  2.05  0.001608  1.63  \n",
      "2017-08-18  22.00  2.00  0.001609  1.55  \n",
      "2017-08-19  22.07  1.96  0.001590  1.60  \n",
      "2017-08-20  24.37  2.23  0.001595  1.77  \n",
      "2017-08-21  24.91  2.71  0.001638  1.69  \n",
      "2017-08-22  22.69  2.70  0.001589  1.57  \n",
      "2017-08-23  24.93  2.76  0.001678  1.84  \n",
      "2017-08-24  26.18  2.99  0.001668  1.95  \n",
      "2017-08-25  29.58  3.16  0.001690  2.10  \n",
      "2017-08-26  32.36  4.30  0.001644  2.37  \n",
      "2017-08-27  35.76  5.37  0.001710  2.64  \n",
      "2017-08-28  36.41  6.00  0.001703  2.74  \n",
      "2017-08-29  32.63  5.63  0.001777  2.48  \n",
      "2017-08-30  34.21  5.60  0.001777  2.62  \n",
      "2017-08-31  35.49  5.84  0.001963  2.66  \n",
      "2017-09-01  36.70  7.04  0.002048  3.28  \n",
      "2017-09-02  34.17  6.93  0.002117  3.20  \n",
      "2017-09-03  34.26  6.67  0.002089  3.17  \n",
      "2017-09-04  28.74  6.00  0.001880  2.67  \n",
      "\n",
      "[2632 rows x 21 columns]\n"
     ]
    }
   ],
   "source": [
    "for e in enumerate(fsym):\n",
    "    print(e[0], e[1])\n",
    "    if(e[0] == 0):\n",
    "        try:\n",
    "            data = fetchCryptoClose(e[1], tsym)\n",
    "        except:\n",
    "            pass\n",
    "    else:\n",
    "        try:\n",
    "            data = data.join(fetchCryptoClose(e[1], tsym))\n",
    "        except:\n",
    "            pass\n",
    " \n",
    "data = data.astype(float)  # ensure values to be floats\n",
    " \n",
    "# save portfolio to a file (HDF5 file format)\n",
    "store = pd.HDFStore('portfolio.h5')\n",
    "store['data'] = data\n",
    "store.close()\n",
    " \n",
    "# read in your portfolio from a file\n",
    "df = pd.read_hdf('portfolio.h5', 'data')\n",
    "print(df)"
   ]
  },
  {
   "cell_type": "code",
   "execution_count": 21,
   "metadata": {
    "collapsed": false
   },
   "outputs": [
    {
     "name": "stdout",
     "output_type": "stream",
     "text": [
      "Index(['BTC', 'ETH', 'DASH', 'XMR', 'XRP', 'LTC', 'ETC', 'XEM', 'REP', 'MAID',\n",
      "       'ZEC', 'STEEM', 'GNT', 'FCT', 'ICN', 'DGD', 'WAVES', 'DCR', 'LSK',\n",
      "       'DOGE', 'PIVX'],\n",
      "      dtype='object')\n"
     ]
    }
   ],
   "source": [
    "print(df.columns)"
   ]
  },
  {
   "cell_type": "code",
   "execution_count": 22,
   "metadata": {
    "collapsed": false
   },
   "outputs": [
    {
     "name": "stdout",
     "output_type": "stream",
     "text": [
      "                BTC  DASH  XMR\n",
      "date                          \n",
      "2010-07-17  0.04951   NaN  NaN\n",
      "2010-07-18  0.05941   NaN  NaN\n",
      "2010-07-19  0.07723   NaN  NaN\n",
      "2010-07-20  0.07426   NaN  NaN\n",
      "2010-07-21  0.06634   NaN  NaN\n"
     ]
    }
   ],
   "source": [
    "df1 = df[['BTC', 'DASH', 'XMR']]\n",
    "print(df1.head())"
   ]
  },
  {
   "cell_type": "code",
   "execution_count": 23,
   "metadata": {
    "collapsed": false
   },
   "outputs": [
    {
     "name": "stdout",
     "output_type": "stream",
     "text": [
      "               BTC  DASH     XMR\n",
      "date                            \n",
      "2015-01-29  220.36  1.90  0.3107\n",
      "2015-01-30  227.19  1.33  0.3027\n",
      "2015-01-31  216.46  1.90  0.2896\n",
      "2015-02-01  209.71  1.90  0.2896\n",
      "2015-02-02  220.53  1.90  0.2867\n"
     ]
    }
   ],
   "source": [
    "df1 = df1.dropna().drop_duplicates()\n",
    "print(df1.head())"
   ]
  },
  {
   "cell_type": "code",
   "execution_count": 24,
   "metadata": {
    "collapsed": true
   },
   "outputs": [],
   "source": [
    "# portfolio pre-processing\n",
    "dfP = df[(df.index >= \"2017-08-01\") & (df.index <= \"2017-08-31\")]\n",
    "dfP = dfP.dropna(axis=1, how='any')"
   ]
  },
  {
   "cell_type": "code",
   "execution_count": 25,
   "metadata": {
    "collapsed": false
   },
   "outputs": [
    {
     "data": {
      "text/plain": [
       "<bound method DataFrame.info of                 BTC     ETH    DASH     XMR     XRP    LTC    ETC     XEM  \\\n",
       "date                                                                        \n",
       "2017-08-01  2659.62  201.27  174.37   39.58  0.1620  41.11  13.46  0.1513   \n",
       "2017-08-02  2668.87  215.71  178.18   42.83  0.1676  41.66  14.26  0.1759   \n",
       "2017-08-03  2717.62  217.84  177.37   43.00  0.1696  41.80  14.29  0.2129   \n",
       "2017-08-04  2779.51  219.73  184.80   43.04  0.1717  42.41  14.77  0.2086   \n",
       "2017-08-05  2875.91  219.72  183.44   45.11  0.1719  43.21  14.76  0.1938   \n",
       "2017-08-06  3166.52  251.79  187.03   47.34  0.1786  45.16  15.36  0.2178   \n",
       "2017-08-07  3198.51  257.41  186.21   47.07  0.1766  45.21  14.55  0.2445   \n",
       "2017-08-08  3357.15  266.94  192.93   49.76  0.1772  45.69  15.14  0.2542   \n",
       "2017-08-09  3251.03  279.10  193.21   49.60  0.1818  46.90  15.15  0.2473   \n",
       "2017-08-10  3322.92  289.22  195.00   49.38  0.1784  46.97  15.16  0.2761   \n",
       "2017-08-11  3409.79  295.94  198.26   48.59  0.1758  46.63  14.87  0.2688   \n",
       "2017-08-12  3611.36  303.71  200.62   46.06  0.1707  46.00  14.44  0.2513   \n",
       "2017-08-13  3847.31  288.04  187.07   43.82  0.1587  44.00  13.78  0.2353   \n",
       "2017-08-14  3978.95  294.74  194.08   46.50  0.1652  45.15  13.77  0.2112   \n",
       "2017-08-15  3837.13  271.38  190.63   45.30  0.1530  41.78  13.07  0.1928   \n",
       "2017-08-16  3938.62  280.66  197.78   47.09  0.1489  42.10  13.17  0.2279   \n",
       "2017-08-17  4194.10  298.19  228.47   47.09  0.1540  43.13  13.57  0.2330   \n",
       "2017-08-18  3978.28  287.17  217.13   45.55  0.1518  43.23  12.51  0.2168   \n",
       "2017-08-19  3957.46  283.65  222.56   46.47  0.1483  43.39  13.04  0.2235   \n",
       "2017-08-20  4034.40  288.48  283.76   51.92  0.1494  44.07  13.27  0.2480   \n",
       "2017-08-21  3966.93  294.93  275.80   52.67  0.1523  45.27  13.72  0.2355   \n",
       "2017-08-22  3612.21  293.09  261.03   71.89  0.1715  44.85  13.37  0.2112   \n",
       "2017-08-23  4070.49  313.16  286.68   85.37  0.2169  46.05  14.19  0.2356   \n",
       "2017-08-24  4111.71  315.94  290.56   79.26  0.2124  50.34  15.04  0.2406   \n",
       "2017-08-25  4292.63  324.69  306.21   85.09  0.2029  49.78  14.99  0.2501   \n",
       "2017-08-26  4263.28  325.90  314.22  104.67  0.2069  50.09  14.87  0.2567   \n",
       "2017-08-27  4321.12  332.80  355.84  124.24  0.1930  51.37  15.15  0.2611   \n",
       "2017-08-28  4195.23  335.41  347.91  128.06  0.1947  58.87  15.52  0.2638   \n",
       "2017-08-29  4350.22  347.24  352.72  127.66  0.2125  61.17  15.56  0.2650   \n",
       "2017-08-30  4491.79  367.41  358.43  122.44  0.2175  61.86  15.73  0.2750   \n",
       "2017-08-31  4580.13  380.89  369.39  132.24  0.2275  65.12  15.89  0.2934   \n",
       "\n",
       "              REP    MAID  ...    STEEM     GNT    FCT   ICN    DGD  WAVES  \\\n",
       "date                       ...                                               \n",
       "2017-08-01  16.40  0.2464  ...   1.0400  0.2149  14.72  2.82  57.53   2.55   \n",
       "2017-08-02  17.04  0.3040  ...   1.1800  0.2426  18.52  2.98  64.05   2.89   \n",
       "2017-08-03  16.99  0.3169  ...   1.2200  0.2472  18.15  3.02  66.36   3.46   \n",
       "2017-08-04  17.20  0.3130  ...   1.2400  0.2780  17.52  2.97  63.62   3.44   \n",
       "2017-08-05  17.34  0.3002  ...   1.1700  0.2686  17.57  2.46  61.52   3.53   \n",
       "2017-08-06  18.36  0.3382  ...   1.2800  0.2963  19.41  2.80  65.77   4.14   \n",
       "2017-08-07  18.43  0.3310  ...   1.2300  0.2849  18.50  2.62  65.25   4.83   \n",
       "2017-08-08  18.81  0.3434  ...   1.2800  0.2911  19.45  2.53  71.94   4.87   \n",
       "2017-08-09  21.23  0.3375  ...   1.2700  0.2855  19.31  2.78  76.63   4.89   \n",
       "2017-08-10  22.61  0.3449  ...   1.1800  0.2627  18.84  2.50  70.11   5.14   \n",
       "2017-08-11  21.92  0.3356  ...   1.0700  0.2643  17.90  2.55  73.34   4.95   \n",
       "2017-08-12  21.34  0.3555  ...   1.1200  0.2848  17.49  2.79  75.69   4.52   \n",
       "2017-08-13  20.51  0.3060  ...   1.1100  0.2561  15.22  2.58  71.18   4.23   \n",
       "2017-08-14  19.32  0.3221  ...   1.0200  0.2241  15.18  2.64  70.75   4.21   \n",
       "2017-08-15  19.34  0.3148  ...   0.9520  0.2144  14.45  2.52  63.31   3.85   \n",
       "2017-08-16  20.11  0.3590  ...   1.0300  0.2343  16.35  2.59  69.83   4.18   \n",
       "2017-08-17  19.99  0.3833  ...   1.0000  0.2291  17.92  2.76  73.31   4.32   \n",
       "2017-08-18  18.43  0.3886  ...   0.9978  0.2163  17.95  2.71  70.18   3.99   \n",
       "2017-08-19  18.40  0.4001  ...   0.8979  0.2156  19.85  2.87  69.89   3.97   \n",
       "2017-08-20  19.00  0.4208  ...   0.9997  0.2423  19.91  3.01  70.04   4.20   \n",
       "2017-08-21  20.22  0.4498  ...   1.1400  0.2531  21.87  2.97  74.14   4.26   \n",
       "2017-08-22  19.49  0.4010  ...   1.0300  0.2386  19.53  2.81  67.84   3.69   \n",
       "2017-08-23  20.46  0.4425  ...   1.1700  0.2629  22.44  2.86  76.57   4.40   \n",
       "2017-08-24  21.50  0.4617  ...   1.1800  0.2733  23.20  2.68  80.01   4.44   \n",
       "2017-08-25  22.74  0.4864  ...   1.2300  0.2814  26.10  2.13  90.53   4.90   \n",
       "2017-08-26  24.79  0.5248  ...   1.2700  0.2825  26.92  2.36  91.19   5.01   \n",
       "2017-08-27  27.09  0.5846  ...   1.3700  0.2914  28.32  2.50  90.27   5.09   \n",
       "2017-08-28  20.10  0.5706  ...   1.3300  0.2906  27.83  2.23  87.72   4.95   \n",
       "2017-08-29  23.17  0.5703  ...   1.3100  0.2899  27.85  2.00  81.35   4.82   \n",
       "2017-08-30  23.69  0.5911  ...   1.3500  0.3063  27.54  2.27  92.67   5.04   \n",
       "2017-08-31  24.78  0.6316  ...   1.3800  0.3201  27.74  2.35  95.22   5.16   \n",
       "\n",
       "              DCR   LSK      DOGE  PIVX  \n",
       "date                                     \n",
       "2017-08-01  26.27  1.74  0.001594  1.68  \n",
       "2017-08-02  28.45  2.00  0.001677  1.81  \n",
       "2017-08-03  27.86  2.01  0.001656  1.89  \n",
       "2017-08-04  27.56  2.06  0.001689  1.89  \n",
       "2017-08-05  26.39  2.00  0.001756  1.81  \n",
       "2017-08-06  29.43  2.02  0.001801  1.74  \n",
       "2017-08-07  27.32  1.84  0.001858  1.79  \n",
       "2017-08-08  28.99  1.93  0.001881  1.85  \n",
       "2017-08-09  26.95  2.20  0.001853  1.85  \n",
       "2017-08-10  27.33  2.19  0.001843  1.96  \n",
       "2017-08-11  24.55  2.13  0.001800  1.87  \n",
       "2017-08-12  23.44  2.20  0.001745  1.81  \n",
       "2017-08-13  22.26  2.05  0.001405  1.66  \n",
       "2017-08-14  19.93  2.12  0.001688  1.54  \n",
       "2017-08-15  20.00  2.07  0.001591  1.36  \n",
       "2017-08-16  22.99  2.07  0.001663  1.66  \n",
       "2017-08-17  22.90  2.05  0.001608  1.63  \n",
       "2017-08-18  22.00  2.00  0.001609  1.55  \n",
       "2017-08-19  22.07  1.96  0.001590  1.60  \n",
       "2017-08-20  24.37  2.23  0.001595  1.77  \n",
       "2017-08-21  24.91  2.71  0.001638  1.69  \n",
       "2017-08-22  22.69  2.70  0.001589  1.57  \n",
       "2017-08-23  24.93  2.76  0.001678  1.84  \n",
       "2017-08-24  26.18  2.99  0.001668  1.95  \n",
       "2017-08-25  29.58  3.16  0.001690  2.10  \n",
       "2017-08-26  32.36  4.30  0.001644  2.37  \n",
       "2017-08-27  35.76  5.37  0.001710  2.64  \n",
       "2017-08-28  36.41  6.00  0.001703  2.74  \n",
       "2017-08-29  32.63  5.63  0.001777  2.48  \n",
       "2017-08-30  34.21  5.60  0.001777  2.62  \n",
       "2017-08-31  35.49  5.84  0.001963  2.66  \n",
       "\n",
       "[31 rows x 21 columns]>"
      ]
     },
     "execution_count": 25,
     "metadata": {},
     "output_type": "execute_result"
    }
   ],
   "source": [
    "dfP.info"
   ]
  },
  {
   "cell_type": "code",
   "execution_count": 26,
   "metadata": {
    "collapsed": true
   },
   "outputs": [],
   "source": [
    "## 2. Principal Component Analysis for Correlation Detections ##"
   ]
  },
  {
   "cell_type": "code",
   "execution_count": 27,
   "metadata": {
    "collapsed": false
   },
   "outputs": [
    {
     "data": {
      "image/png": "[encoded data removed]",
      "text/plain": [
       "<matplotlib.figure.Figure at 0xc10eeb8>"
      ]
     },
     "metadata": {},
     "output_type": "display_data"
    },
    {
     "data": {
      "image/png": "[encoded data removed]",
      "text/plain": [
       "<matplotlib.figure.Figure at 0xc3e2c50>"
      ]
     },
     "metadata": {},
     "output_type": "display_data"
    }
   ],
   "source": [
    "m = dfP.mean(axis=0)\n",
    "s = dfP.std(ddof=1, axis=0)\n",
    " \n",
    "# normalised time-series as an input for PCA\n",
    "dfPort = (dfP - m)/s\n",
    " \n",
    "c = np.cov(dfPort.values.T)     # covariance matrix\n",
    "co = np.corrcoef(dfP.values.T)  # correlation matrix\n",
    " \n",
    "tickers = list(dfP.columns)\n",
    " \n",
    "plt.figure(figsize=(8,8))\n",
    "plt.imshow(co, cmap=\"RdGy\", interpolation=\"nearest\")\n",
    "cb = plt.colorbar()\n",
    "cb.set_label(\"Correlation Matrix Coefficients\")\n",
    "plt.title(\"Correlation Matrix\", fontsize=14)\n",
    "plt.xticks(np.arange(len(tickers)), tickers, rotation=90)\n",
    "plt.yticks(np.arange(len(tickers)), tickers)\n",
    " \n",
    "# perform PCA\n",
    "w, v = np.linalg.eig(c)  \n",
    " \n",
    "ax = plt.figure(figsize=(8,8)).gca()\n",
    "plt.imshow(v, cmap=\"bwr\", interpolation=\"nearest\")\n",
    "cb = plt.colorbar()\n",
    "plt.yticks(np.arange(len(tickers)), tickers)\n",
    "plt.xlabel(\"PC Number\")\n",
    "plt.title(\"PCA\", fontsize=14)\n",
    "# force x-tickers to be displayed as integers (not floats)\n",
    "ax.xaxis.set_major_locator(MaxNLocator(integer=True))\n",
    "plt.show()"
   ]
  },
  {
   "cell_type": "code",
   "execution_count": 28,
   "metadata": {
    "collapsed": false
   },
   "outputs": [
    {
     "data": {
      "image/png": "[encoded data removed]",
      "text/plain": [
       "<matplotlib.figure.Figure at 0xc111780>"
      ]
     },
     "metadata": {},
     "output_type": "display_data"
    }
   ],
   "source": [
    "from matplotlib import pyplot as plt\n",
    "\n",
    "# choose PC-k numbers\n",
    "k1 = -1  # the last PC column in 'v' PCA matrix\n",
    "k2 = -2  # the second last PC column\n",
    " \n",
    "# begin constructing bi-plot for PC(k1) and PC(k2)\n",
    "# loadings\n",
    "plt.figure(figsize=(7,7))\n",
    "plt.grid()\n",
    "\n",
    "# compute the distance from (0,0) point\n",
    "dist = []\n",
    "for i in range(v.shape[0]):\n",
    "    x = v[i,k1]\n",
    "    y = v[i,k2]\n",
    "    plt.plot(x, y, '.k')\n",
    "    plt.plot([0,x], [0,y], '-', color=grey)\n",
    "    d = np.sqrt(x**2 + y**2)\n",
    "    dist.append(d)\n",
    "plt.show() "
   ]
  },
  {
   "cell_type": "code",
   "execution_count": 29,
   "metadata": {
    "collapsed": false
   },
   "outputs": [
    {
     "data": {
      "image/png": "[encoded data removed]",
      "text/plain": [
       "<matplotlib.figure.Figure at 0xa374be0>"
      ]
     },
     "metadata": {},
     "output_type": "display_data"
    }
   ],
   "source": [
    "# check and save membership of a coin to\n",
    "# a quarter number 1, 2, 3 or 4 on the plane\n",
    "quar = []\n",
    "for i in range(v.shape[0]):\n",
    "    x = v[i,k1]\n",
    "    y = v[i,k2]\n",
    "    d = np.sqrt(x**2 + y**2)\n",
    "    if(d > np.mean(dist) + np.std(dist, ddof=1)):\n",
    "        plt.plot(x, y, '.r', markersize=10)\n",
    "        plt.plot([0,x], [0,y], '-', color=grey)\n",
    "        if((x > 0) and (y > 0)):\n",
    "            quar.append((i, 1))\n",
    "        elif((x < 0) and (y > 0)):\n",
    "            quar.append((i, 2))\n",
    "        elif((x < 0) and (y < 0)):\n",
    "            quar.append((i, 3))\n",
    "        elif((x > 0) and (y < 0)):\n",
    "            quar.append((i, 4))\n",
    "        plt.text(x, y, tickers[i], color='k')\n",
    " \n",
    "plt.xlabel(\"PC-\" + str(len(tickers)+k1+1))\n",
    "plt.ylabel(\"PC-\" + str(len(tickers)+k2+1))\n",
    "plt.show() "
   ]
  },
  {
   "cell_type": "code",
   "execution_count": 15,
   "metadata": {
    "collapsed": false
   },
   "outputs": [
    {
     "name": "stdout",
     "output_type": "stream",
     "text": [
      "ZEC DASH\n",
      "0.877140417662 9.59298546594e-11\n",
      "0.729032258065 8.32288038816e-09\n"
     ]
    },
    {
     "data": {
      "image/png": "[encoded data removed]",
      "text/plain": [
       "<matplotlib.figure.Figure at 0x28525938da0>"
      ]
     },
     "metadata": {},
     "output_type": "display_data"
    },
    {
     "name": "stdout",
     "output_type": "stream",
     "text": [
      "FCT MAID\n",
      "0.940052454356 4.39542238078e-15\n",
      "0.686021505376 5.89830554001e-08\n"
     ]
    },
    {
     "data": {
      "image/png": "[encoded data removed]",
      "text/plain": [
       "<matplotlib.figure.Figure at 0x28525515da0>"
      ]
     },
     "metadata": {},
     "output_type": "display_data"
    }
   ],
   "source": [
    "for i in range(len(quar)):\n",
    "    # Q1 vs Q3\n",
    "    if(quar[i][1] == 1):\n",
    "        for j in range(len(quar)):\n",
    "            if(quar[j][1] == 3):\n",
    "                plt.figure(figsize=(7,4))\n",
    " \n",
    "                # highly correlated coins according to the PC analysis\n",
    "                print(tickers[quar[i][0]], tickers[quar[j][0]])\n",
    " \n",
    "                ts1 = dfP[tickers[quar[i][0]]]  # time-series\n",
    "                ts2 = dfP[tickers[quar[j][0]]]\n",
    " \n",
    "                # correlation metrics and their p_values\n",
    "                slope, intercept, r2, pvalue, _ = stats.linregress(ts1, ts2)\n",
    "                ktau, kpvalue = stats.kendalltau(ts1, ts2)\n",
    "                print(r2, pvalue)\n",
    "                print(ktau, kpvalue)\n",
    " \n",
    "                plt.plot(ts1, ts2, '.k')\n",
    "                xline = np.linspace(np.min(ts1), np.max(ts1), 100)\n",
    "                yline = slope*xline + intercept\n",
    "                plt.plot(xline, yline,'--', color='b')  # linear model fit\n",
    "                plt.xlabel(tickers[quar[i][0]])\n",
    "                plt.ylabel(tickers[quar[j][0]])\n",
    "                plt.show()\n",
    "    # Q2 vs Q4\n",
    "    if(quar[i][1] == 2):\n",
    "        for j in range(len(quar)):\n",
    "            if(quar[j][1] == 4):\n",
    "                plt.figure(figsize=(7,4))\n",
    "                print(tickers[quar[i][0]], tickers[quar[j][0]])\n",
    "                ts1 = dfP[tickers[quar[i][0]]]\n",
    "                ts2 = dfP[tickers[quar[j][0]]]\n",
    "                slope, intercept, r2, pvalue, _ = stats.linregress(ts1, ts2)\n",
    "                ktau, kpvalue = stats.kendalltau(ts1, ts2)\n",
    "                print(r2, pvalue)\n",
    "                print(ktau, kpvalue)\n",
    "                plt.plot(ts1, ts2, '.k')\n",
    "                xline = np.linspace(np.min(ts1), np.max(ts1), 100)\n",
    "                yline = slope*xline + intercept\n",
    "                plt.plot(xline, yline,'--', color='b')\n",
    "                plt.xlabel(tickers[quar[i][0]])\n",
    "                plt.ylabel(tickers[quar[j][0]])\n",
    "                plt.show()"
   ]
  },
  {
   "cell_type": "code",
   "execution_count": null,
   "metadata": {
    "collapsed": true
   },
   "outputs": [],
   "source": []
  }
 ],
 "metadata": {
  "anaconda-cloud": {},
  "kernelspec": {
   "display_name": "Python [Python3]",
   "language": "python",
   "name": "Python [Python3]"
  },
  "language_info": {
   "codemirror_mode": {
    "name": "ipython",
    "version": 3
   },
   "file_extension": ".py",
   "mimetype": "text/x-python",
   "name": "python",
   "nbconvert_exporter": "python",
   "pygments_lexer": "ipython3",
   "version": "3.6.2"
  }
 },
 "nbformat": 4,
 "nbformat_minor": 2
}
