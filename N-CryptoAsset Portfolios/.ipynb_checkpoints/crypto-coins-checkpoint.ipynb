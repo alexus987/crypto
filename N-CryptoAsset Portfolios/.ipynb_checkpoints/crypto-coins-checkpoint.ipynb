{
 "cells": [
  {
   "cell_type": "code",
   "execution_count": 1,
   "metadata": {},
   "outputs": [],
   "source": [
    "import pandas as pd\n",
    "import json\n",
    "from bs4 import BeautifulSoup\n",
    "import requests"
   ]
  },
  {
   "cell_type": "code",
   "execution_count": 2,
   "metadata": {
    "collapsed": true
   },
   "outputs": [],
   "source": [
    "# (c) 2017 QuantAtRisk.com, by Pawel Lachowicz\n",
    " \n",
    "import pandas as pd\n",
    "import json\n",
    "from bs4 import BeautifulSoup\n",
    "import requests\n",
    " \n",
    "url = \"https://api.coinmarketcap.com/v1/ticker/\"\n",
    "response = requests.get(url)\n",
    "soup = BeautifulSoup(response.content, \"html.parser\")\n",
    "dic = json.loads(soup.prettify())\n",
    " \n",
    "# create an empty DataFrame\n",
    "df = pd.DataFrame(columns=[\"Ticker\", \"MarketCap\"])\n",
    " \n",
    "for i in range(len(dic)):\n",
    "    df.loc[len(df)] = [dic[i]['symbol'], dic[i]['market_cap_usd']]\n",
    " \n",
    "df.sort_values(by=['MarketCap'])\n",
    "# apply conversion to numeric as 'df' contains lots of 'None' string as values\n",
    "df.MarketCap = pd.to_numeric(df.MarketCap)"
   ]
  },
  {
   "cell_type": "code",
   "execution_count": 4,
   "metadata": {},
   "outputs": [
    {
     "name": "stdout",
     "output_type": "stream",
     "text": [
      "    Ticker     MarketCap\n",
      "0      BTC  7.896987e+10\n",
      "1      ETH  3.663019e+10\n",
      "2      BCH  9.872319e+09\n",
      "3      XRP  9.692633e+09\n",
      "4      LTC  3.990405e+09\n",
      "5      XEM  2.928933e+09\n",
      "6     DASH  2.864872e+09\n",
      "7    MIOTA  2.412604e+09\n",
      "8      XMR  2.103181e+09\n",
      "9      ETC  1.639390e+09\n",
      "10     NEO  1.595320e+09\n",
      "11     OMG  1.205482e+09\n",
      "12     HSR  1.137531e+09\n",
      "13    QTUM  1.012700e+09\n",
      "14     BCC  8.978569e+08\n",
      "15     LSK  8.824921e+08\n",
      "16   STRAT  7.598332e+08\n",
      "17     ZEC  5.937822e+08\n",
      "18   WAVES  5.933620e+08\n",
      "19     PAY  4.394278e+08\n",
      "20     BCN  4.169696e+08\n",
      "21     EOS  4.057121e+08\n",
      "22     BTS  3.802013e+08\n",
      "23   STEEM  3.767729e+08\n",
      "24     XLM  3.707731e+08\n",
      "25    USDT  3.204314e+08\n",
      "26    MAID  3.005125e+08\n",
      "27     REP  2.990691e+08\n",
      "28     BAT  2.977830e+08\n",
      "29     GNT  2.811275e+08\n",
      "..     ...           ...\n",
      "123    HMQ  2.649225e+07\n",
      "124    LBC  2.640764e+07\n",
      "125    PST  2.628367e+07\n",
      "126   MONA  2.626195e+07\n",
      "127  SAFEX  2.623473e+07\n",
      "128   DICE  2.619104e+07\n",
      "129    SAN  2.613628e+07\n",
      "130    TCC  2.608366e+07\n",
      "131    POT  2.551103e+07\n",
      "132   XAUR  2.525017e+07\n",
      "133    BAY  2.510984e+07\n",
      "134   TRST  2.509729e+07\n",
      "135    EXP  2.499323e+07\n",
      "136    ZEN  2.456172e+07\n",
      "137    SPR  2.416881e+07\n",
      "138  SHIFT  2.405991e+07\n",
      "139    EB3  2.359799e+07\n",
      "140    IXT  2.256886e+07\n",
      "141    XDN  2.245866e+07\n",
      "142   TRIG  2.233573e+07\n",
      "143   RADS  2.177468e+07\n",
      "144    PPY  2.169303e+07\n",
      "145    SKY  2.130364e+07\n",
      "146   SOAR  2.122126e+07\n",
      "147    GUP  2.119920e+07\n",
      "148   CLAM  2.114920e+07\n",
      "149    DTB  2.088772e+07\n",
      "150    BLK  2.079058e+07\n",
      "151    NXC  2.069061e+07\n",
      "545  UNITY  2.130906e+07\n",
      "\n",
      "[153 rows x 2 columns]\n",
      "\n"
     ]
    }
   ],
   "source": [
    "P = df[df.MarketCap > 20e6]\n",
    "print(P, end=\"\\n\\n\")\n"
   ]
  },
  {
   "cell_type": "code",
   "execution_count": 5,
   "metadata": {},
   "outputs": [
    {
     "name": "stdout",
     "output_type": "stream",
     "text": [
      "['BTC', 'ETH', 'BCH', 'XRP', 'LTC', 'XEM', 'DASH', 'MIOTA', 'XMR', 'ETC', 'NEO', 'OMG', 'HSR', 'QTUM', 'BCC', 'LSK', 'STRAT', 'ZEC', 'WAVES', 'PAY', 'BCN', 'EOS', 'BTS', 'STEEM', 'XLM', 'USDT', 'MAID', 'REP', 'BAT', 'GNT', 'FCT', 'ARK', 'ICN', 'MTL', 'SC', 'DOGE', 'BNB', 'GBYTE', 'PIVX', 'DCR', 'GNO', 'DGD', 'ZRX', 'CVC', 'DGB', 'VERI', 'SNT', 'NXS', 'MCAP', 'GAME', 'PPT', 'KMD', 'ARDR', 'GAS', 'BLOCK', 'GXS', 'FUN', 'BNT', 'NXT', 'MCO', 'SYS', 'UBQ', 'BTM', 'NLC2', 'ANT', 'LKK', 'STORJ', 'PART', 'SNGLS', 'BTCD', 'XVG', 'NAV', 'MGO', 'CFI', 'WINGS', 'ETP', 'TNT', 'ICO', 'EDG', 'DNT', 'BQX', 'DCT', 'XAS', 'ADX', 'RISE', 'NLG', 'EMC', 'CDT', 'RLC', 'MLN', 'TKN', '1ST', 'PLR', 'PPC', 'LEO', 'RDD', 'FRST', 'XEL', 'IOC', 'NMR', 'ADK', 'VIA', 'STX', 'XZC', 'XCP', 'ROUND', 'QRL', 'VTC', 'MYST', 'TAAS', 'XRL', 'MSP', 'VSL', 'ADT', 'FAIR', 'CLOAK', 'LUN', 'NMC', 'ION', 'SNM', 'PTOY', 'CRW', 'PLBT', 'HMQ', 'LBC', 'PST', 'MONA', 'SAFEX', 'DICE', 'SAN', 'TCC', 'POT', 'XAUR', 'BAY', 'TRST', 'EXP', 'ZEN', 'SPR', 'SHIFT', 'EB3', 'IXT', 'XDN', 'TRIG', 'RADS', 'PPY', 'SKY', 'SOAR', 'GUP', 'CLAM', 'DTB', 'BLK', 'NXC', 'UNITY']\n"
     ]
    }
   ],
   "source": [
    "portfolio = list(P.Ticker)\n",
    "print(portfolio)"
   ]
  },
  {
   "cell_type": "code",
   "execution_count": null,
   "metadata": {
    "collapsed": true
   },
   "outputs": [],
   "source": []
  }
 ],
 "metadata": {
  "anaconda-cloud": {},
  "kernelspec": {
   "display_name": "Python [conda root]",
   "language": "python",
   "name": "conda-root-py"
  },
  "language_info": {
   "codemirror_mode": {
    "name": "ipython",
    "version": 3
   },
   "file_extension": ".py",
   "mimetype": "text/x-python",
   "name": "python",
   "nbconvert_exporter": "python",
   "pygments_lexer": "ipython3",
   "version": "3.6.1"
  }
 },
 "nbformat": 4,
 "nbformat_minor": 2
}
