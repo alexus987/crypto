{
 "cells": [
  {
   "cell_type": "code",
   "execution_count": 3,
   "metadata": {
    "collapsed": false
   },
   "outputs": [],
   "source": []
  },
  {
   "cell_type": "code",
   "execution_count": 6,
   "metadata": {
    "collapsed": false
   },
   "outputs": [],
   "source": [
    "# Downloading daily price-series OHCL for Cryptocurrencies\n",
    "# (c) 2017 QuantAtRisk.com, by Pawel Lachowicz\n",
    " \n",
    "import numpy as np\n",
    "import pandas as pd\n",
    "from matplotlib import pyplot as plt\n",
    "from datetime import datetime\n",
    "import json\n",
    "from bs4 import BeautifulSoup\n",
    "import requests\n",
    " \n",
    " \n",
    "def timestamp2date(timestamp):\n",
    "    # function converts a Unix timestamp into Gregorian date\n",
    "    return datetime.fromtimestamp(int(timestamp)).strftime('%Y-%m-%d')\n",
    " \n",
    "def date2timestamp(date):\n",
    "    # function coverts Gregorian date in a given format to timestamp\n",
    "    return datetime.strptime(date_today, '%Y-%m-%d').timestamp()\n",
    " \n",
    " \n",
    "def fetchCryptoOHLC(fsym, tsym):\n",
    "    # function fetches a crypto price-series for fsym/tsym and stores\n",
    "    # it in pandas DataFrame\n",
    " \n",
    "    cols = ['date', 'timestamp', 'open', 'high', 'low', 'close']\n",
    "    lst = ['time', 'open', 'high', 'low', 'close']\n",
    " \n",
    "    timestamp_today = datetime.today().timestamp()\n",
    "    curr_timestamp = timestamp_today\n",
    " \n",
    "    for j in range(2):\n",
    "        df = pd.DataFrame(columns=cols)\n",
    "        url = \"https://min-api.cryptocompare.com/data/histoday?fsym=\" + fsym + \"&tsym=\" + tsym + \"&toTs=\" + str(int(curr_timestamp)) + \"&limit=2000\"\n",
    "        response = requests.get(url)\n",
    "        soup = BeautifulSoup(response.content, \"html.parser\")\n",
    "        dic = json.loads(soup.prettify())\n",
    "        for i in range(1, 2001):\n",
    "            tmp = []\n",
    "            for e in enumerate(lst):\n",
    "                x = e[0]\n",
    "                y = dic['Data'][i][e[1]]\n",
    "                if(x == 0):\n",
    "                    tmp.append(str(timestamp2date(y)))\n",
    "                tmp.append(y)\n",
    "            if(np.sum(tmp[-4::]) > 0):\n",
    "                df.loc[len(df)] = np.array(tmp)\n",
    "        df.index = pd.to_datetime(df.date)\n",
    "        df.drop('date', axis=1, inplace=True)\n",
    "        curr_timestamp = int(df.ix[0][0])\n",
    "        if(j == 0):\n",
    "            df0 = df.copy()\n",
    "        else:\n",
    "            data = pd.concat([df, df0], axis=0)\n",
    " \n",
    "    return data"
   ]
  },
  {
   "cell_type": "code",
   "execution_count": 7,
   "metadata": {
    "collapsed": false
   },
   "outputs": [
    {
     "name": "stderr",
     "output_type": "stream",
     "text": [
      "C:\\Users\\as\\Anaconda2\\envs\\Python3\\lib\\site-packages\\ipykernel\\__main__.py:50: DeprecationWarning: \n",
      ".ix is deprecated. Please use\n",
      ".loc for label based indexing or\n",
      ".iloc for positional indexing\n",
      "\n",
      "See the documentation here:\n",
      "http://pandas.pydata.org/pandas-docs/stable/indexing.html#ix-indexer-is-deprecated\n"
     ]
    },
    {
     "name": "stdout",
     "output_type": "stream",
     "text": [
      "             timestamp     open     high      low    close\n",
      "date                                                      \n",
      "2010-07-17  1279324800  0.04951  0.04951  0.04951  0.04951\n",
      "2010-07-18  1279411200  0.04951  0.08585  0.05941  0.08584\n",
      "2010-07-19  1279497600  0.08584  0.09307  0.07723   0.0808\n",
      "2010-07-20  1279584000   0.0808  0.08181  0.07426  0.07474\n",
      "2010-07-21  1279670400  0.07474  0.07921  0.06634  0.07921\n",
      "2010-07-22  1279756800  0.07921  0.08181   0.0505   0.0505\n",
      "2010-07-23  1279843200   0.0505  0.06767   0.0505  0.06262\n",
      "2010-07-24  1279929600  0.06262  0.06161  0.05049  0.05454\n",
      "2010-07-25  1280016000  0.05454  0.05941   0.0505   0.0505\n",
      "2010-07-26  1280102400   0.0505    0.056     0.05    0.056\n",
      "2010-07-27  1280188800    0.056   0.0605    0.053     0.06\n",
      "2010-07-28  1280275200     0.06    0.062    0.054   0.0589\n",
      "2010-07-29  1280361600   0.0589   0.0699   0.0571   0.0699\n",
      "2010-07-30  1280448000   0.0699   0.0698   0.0582   0.0627\n",
      "2010-07-31  1280534400   0.0627  0.06889    0.056  0.06785\n",
      "2010-08-01  1280620800  0.06785    0.065     0.06   0.0611\n",
      "2010-08-02  1280707200   0.0611   0.0633     0.06     0.06\n",
      "2010-08-03  1280793600     0.06    0.065    0.059     0.06\n",
      "2010-08-04  1280880000     0.06  0.06231    0.057    0.057\n",
      "2010-08-05  1280966400    0.057    0.061    0.058    0.061\n",
      "2010-08-06  1281052800    0.061   0.0624   0.0607   0.0623\n",
      "2010-08-07  1281139200   0.0623   0.0622    0.059    0.059\n",
      "2010-08-08  1281225600    0.059    0.061    0.059   0.0609\n",
      "2010-08-09  1281312000   0.0609   0.0735   0.0593    0.071\n",
      "2010-08-10  1281398400    0.071   0.0709  0.06651     0.07\n",
      "2010-08-11  1281484800     0.07  0.07541     0.06    0.067\n",
      "2010-08-12  1281571200    0.067     0.07  0.06141     0.07\n",
      "2010-08-13  1281657600     0.07    0.068   0.0645   0.0645\n",
      "2010-08-14  1281744000   0.0645   0.0695   0.0645    0.067\n",
      "2010-08-15  1281830400    0.067    0.067    0.065  0.06529\n",
      "...                ...      ...      ...      ...      ...\n",
      "2017-08-01  1501545600  2883.27  2946.02  2659.62  2746.99\n",
      "2017-08-02  1501632000  2746.99   2773.8  2668.87  2720.53\n",
      "2017-08-03  1501718400  2720.53  2822.88  2717.62  2809.99\n",
      "2017-08-04  1501804800  2809.99  2892.67  2779.51  2878.49\n",
      "2017-08-05  1501891200  2878.49  3344.01  2875.91   3262.8\n",
      "2017-08-06  1501977600   3262.8  3295.07  3166.52  3232.03\n",
      "2017-08-07  1502064000  3232.03  3425.13  3198.51  3401.91\n",
      "2017-08-08  1502150400  3401.91  3494.87  3357.15  3429.38\n",
      "2017-08-09  1502236800  3429.38  3437.15  3251.03  3348.79\n",
      "2017-08-10  1502323200  3348.79  3453.84  3322.92  3425.67\n",
      "2017-08-11  1502409600  3425.67  3706.48  3409.79  3654.37\n",
      "2017-08-12  1502496000  3654.37  3967.26  3611.36  3871.62\n",
      "2017-08-13  1502582400  3871.62  4189.42  3847.31   4062.6\n",
      "2017-08-14  1502668800   4062.6  4336.71  3978.95  4327.94\n",
      "2017-08-15  1502755200  4327.94  4436.48  3837.13  4161.66\n",
      "2017-08-16  1502841600  4161.66  4398.06  3938.62   4387.4\n",
      "2017-08-17  1502928000   4387.4   4487.5   4194.1  4278.92\n",
      "2017-08-18  1503014400  4278.92  4362.73  3978.28  4105.37\n",
      "2017-08-19  1503100800  4105.37  4189.68  3957.46  4150.45\n",
      "2017-08-20  1503187200  4150.45  4182.29   4034.4   4066.6\n",
      "2017-08-21  1503273600   4066.6  4097.25  3966.93   4005.1\n",
      "2017-08-22  1503360000   4005.1  4142.68  3612.21   4089.7\n",
      "2017-08-23  1503446400   4089.7  4255.62  4070.49  4141.09\n",
      "2017-08-24  1503532800  4141.09  4364.11  4111.71  4318.35\n",
      "2017-08-25  1503619200  4318.35  4461.71  4292.63  4364.41\n",
      "2017-08-26  1503705600  4364.41  4379.28  4263.28   4352.3\n",
      "2017-08-27  1503792000   4352.3  4408.18  4321.12  4345.75\n",
      "2017-08-28  1503878400  4345.75  4403.13  4195.23  4390.31\n",
      "2017-08-29  1503964800  4390.31  4647.83  4350.22  4597.31\n",
      "2017-08-30  1504051200  4597.31  4644.06  4491.79  4586.46\n",
      "\n",
      "[2603 rows x 5 columns]\n"
     ]
    },
    {
     "data": {
      "text/plain": [
       "<matplotlib.text.Text at 0x92284e0>"
      ]
     },
     "execution_count": 7,
     "metadata": {},
     "output_type": "execute_result"
    }
   ],
   "source": [
    "fsym = \"BTC\"\n",
    "tsym = \"USD\"\n",
    "data = fetchCryptoOHLC(fsym, tsym)\n",
    " \n",
    "# print the BTC/USD OHLC price-series\n",
    "print(data)\n",
    " \n",
    "# plot them all\n",
    "plt.figure(figsize=(10,4))\n",
    "plt.plot(data.open)\n",
    "plt.plot(data.high)\n",
    "plt.plot(data.low)\n",
    "plt.plot(data.close)\n",
    "plt.legend(loc=2)\n",
    "plt.title(fsym, fontsize=12)\n",
    "plt.ylabel(tsym, fontsize=12)"
   ]
  },
  {
   "cell_type": "code",
   "execution_count": null,
   "metadata": {
    "collapsed": true
   },
   "outputs": [],
   "source": []
  }
 ],
 "metadata": {
  "kernelspec": {
   "display_name": "Python [Python3]",
   "language": "python",
   "name": "Python [Python3]"
  },
  "language_info": {
   "codemirror_mode": {
    "name": "ipython",
    "version": 3
   },
   "file_extension": ".py",
   "mimetype": "text/x-python",
   "name": "python",
   "nbconvert_exporter": "python",
   "pygments_lexer": "ipython3",
   "version": "3.6.2"
  }
 },
 "nbformat": 4,
 "nbformat_minor": 2
}
