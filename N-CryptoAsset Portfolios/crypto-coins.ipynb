{
 "cells": [
  {
   "cell_type": "code",
   "execution_count": 1,
   "metadata": {},
   "outputs": [],
   "source": [
    "import pandas as pd\n",
    "import json\n",
    "from bs4 import BeautifulSoup\n",
    "import requests"
   ]
  },
  {
   "cell_type": "code",
   "execution_count": 2,
   "metadata": {
    "collapsed": true
   },
   "outputs": [],
   "source": [
    "# (c) 2017 QuantAtRisk.com, by Pawel Lachowicz\n",
    " \n",
    "import pandas as pd\n",
    "import json\n",
    "from bs4 import BeautifulSoup\n",
    "import requests\n",
    " \n",
    "url = \"https://api.coinmarketcap.com/v1/ticker/\"\n",
    "response = requests.get(url)\n",
    "soup = BeautifulSoup(response.content, \"html.parser\")\n",
    "dic = json.loads(soup.prettify())\n",
    " \n",
    "# create an empty DataFrame\n",
    "df = pd.DataFrame(columns=[\"Ticker\", \"MarketCap\"])\n",
    " \n",
    "for i in range(len(dic)):\n",
    "    df.loc[len(df)] = [dic[i]['symbol'], dic[i]['market_cap_usd']]\n",
    " \n",
    "df.sort_values(by=['MarketCap'])\n",
    "# apply conversion to numeric as 'df' contains lots of 'None' string as values\n",
    "df.MarketCap = pd.to_numeric(df.MarketCap)"
   ]
  },
  {
   "cell_type": "code",
   "execution_count": 6,
   "metadata": {},
   "outputs": [
    {
     "name": "stdout",
     "output_type": "stream",
     "text": [
      "   Ticker     MarketCap\n",
      "0     BTC  7.896987e+10\n",
      "1     ETH  3.663019e+10\n",
      "2     BCH  9.872319e+09\n",
      "3     XRP  9.692633e+09\n",
      "4     LTC  3.990405e+09\n",
      "5     XEM  2.928933e+09\n",
      "6    DASH  2.864872e+09\n",
      "7   MIOTA  2.412604e+09\n",
      "8     XMR  2.103181e+09\n",
      "9     ETC  1.639390e+09\n",
      "10    NEO  1.595320e+09\n",
      "11    OMG  1.205482e+09\n",
      "12    HSR  1.137531e+09\n",
      "13   QTUM  1.012700e+09\n",
      "14    BCC  8.978569e+08\n",
      "15    LSK  8.824921e+08\n",
      "16  STRAT  7.598332e+08\n",
      "17    ZEC  5.937822e+08\n",
      "18  WAVES  5.933620e+08\n",
      "19    PAY  4.394278e+08\n",
      "20    BCN  4.169696e+08\n",
      "21    EOS  4.057121e+08\n",
      "22    BTS  3.802013e+08\n",
      "23  STEEM  3.767729e+08\n",
      "24    XLM  3.707731e+08\n",
      "25   USDT  3.204314e+08\n",
      "26   MAID  3.005125e+08\n",
      "27    REP  2.990691e+08\n",
      "28    BAT  2.977830e+08\n",
      "29    GNT  2.811275e+08\n",
      "30    FCT  2.648559e+08\n",
      "31    ARK  2.616916e+08\n",
      "32    ICN  2.584892e+08\n",
      "33    MTL  2.434068e+08\n",
      "34     SC  2.404831e+08\n",
      "35   DOGE  2.305643e+08\n",
      "36    BNB  2.280500e+08\n",
      "37  GBYTE  2.236380e+08\n",
      "38   PIVX  2.171541e+08\n",
      "39    DCR  2.146060e+08\n",
      "\n"
     ]
    }
   ],
   "source": [
    "P = df[df.MarketCap > 200e6]\n",
    "print(P, end=\"\\n\\n\")\n"
   ]
  },
  {
   "cell_type": "code",
   "execution_count": 7,
   "metadata": {},
   "outputs": [
    {
     "name": "stdout",
     "output_type": "stream",
     "text": [
      "['BTC', 'ETH', 'BCH', 'XRP', 'LTC', 'XEM', 'DASH', 'MIOTA', 'XMR', 'ETC', 'NEO', 'OMG', 'HSR', 'QTUM', 'BCC', 'LSK', 'STRAT', 'ZEC', 'WAVES', 'PAY', 'BCN', 'EOS', 'BTS', 'STEEM', 'XLM', 'USDT', 'MAID', 'REP', 'BAT', 'GNT', 'FCT', 'ARK', 'ICN', 'MTL', 'SC', 'DOGE', 'BNB', 'GBYTE', 'PIVX', 'DCR']\n"
     ]
    }
   ],
   "source": [
    "portfolio = list(P.Ticker)\n",
    "print(portfolio)"
   ]
  },
  {
   "cell_type": "code",
   "execution_count": null,
   "metadata": {
    "collapsed": true
   },
   "outputs": [],
   "source": []
  }
 ],
 "metadata": {
  "anaconda-cloud": {},
  "kernelspec": {
   "display_name": "Python [conda root]",
   "language": "python",
   "name": "conda-root-py"
  },
  "language_info": {
   "codemirror_mode": {
    "name": "ipython",
    "version": 3
   },
   "file_extension": ".py",
   "mimetype": "text/x-python",
   "name": "python",
   "nbconvert_exporter": "python",
   "pygments_lexer": "ipython3",
   "version": "3.6.1"
  }
 },
 "nbformat": 4,
 "nbformat_minor": 2
}
