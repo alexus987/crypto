{
 "cells": [
  {
   "cell_type": "code",
   "execution_count": 1,
   "metadata": {
    "collapsed": false
   },
   "outputs": [],
   "source": [
    "import pandas as pd\n",
    "import json\n",
    "from bs4 import BeautifulSoup\n",
    "import requests"
   ]
  },
  {
   "cell_type": "code",
   "execution_count": 2,
   "metadata": {
    "collapsed": true
   },
   "outputs": [],
   "source": [
    "# (c) 2017 QuantAtRisk.com, by Pawel Lachowicz\n",
    " \n",
    "import pandas as pd\n",
    "import json\n",
    "from bs4 import BeautifulSoup\n",
    "import requests\n",
    " \n",
    "url = \"https://api.coinmarketcap.com/v1/ticker/\"\n",
    "response = requests.get(url)\n",
    "soup = BeautifulSoup(response.content, \"html.parser\")\n",
    "dic = json.loads(soup.prettify())\n",
    " \n",
    "# create an empty DataFrame\n",
    "df = pd.DataFrame(columns=[\"Ticker\", \"MarketCap\"])\n",
    " \n",
    "for i in range(len(dic)):\n",
    "    df.loc[len(df)] = [dic[i]['symbol'], dic[i]['market_cap_usd']]\n",
    " \n",
    "df.sort_values(by=['MarketCap'])\n",
    "# apply conversion to numeric as 'df' contains lots of 'None' string as values\n",
    "df.MarketCap = pd.to_numeric(df.MarketCap)"
   ]
  },
  {
   "cell_type": "code",
   "execution_count": 3,
   "metadata": {
    "collapsed": false
   },
   "outputs": [
    {
     "name": "stdout",
     "output_type": "stream",
     "text": [
      "    Ticker     MarketCap\n",
      "0      BTC  7.545316e+10\n",
      "1      ETH  3.589290e+10\n",
      "2      BCH  9.244596e+09\n",
      "3      XRP  8.666053e+09\n",
      "4      LTC  3.254835e+09\n",
      "5     DASH  2.763913e+09\n",
      "6      XEM  2.635659e+09\n",
      "7    MIOTA  2.388164e+09\n",
      "8      XMR  1.932723e+09\n",
      "9      NEO  1.751700e+09\n",
      "10     ETC  1.485565e+09\n",
      "11     OMG  1.074373e+09\n",
      "12    QTUM  9.872175e+08\n",
      "13     HSR  9.680866e+08\n",
      "14     BCC  8.932557e+08\n",
      "15   STRAT  6.903287e+08\n",
      "16     LSK  6.603321e+08\n",
      "17     ZEC  5.659108e+08\n",
      "18   WAVES  5.351410e+08\n",
      "19     PAY  4.640348e+08\n",
      "20     BCN  4.624623e+08\n",
      "21     EOS  4.007077e+08\n",
      "22     BTS  3.731630e+08\n",
      "23   STEEM  3.419806e+08\n",
      "24    USDT  3.195081e+08\n",
      "25    MAID  3.027938e+08\n",
      "26     GNT  2.700382e+08\n",
      "27     REP  2.679908e+08\n",
      "28     ICN  2.612804e+08\n",
      "29     FCT  2.587868e+08\n",
      "..     ...           ...\n",
      "119    EXP  2.704051e+07\n",
      "120   MYST  2.644795e+07\n",
      "121    HMQ  2.643574e+07\n",
      "122    POT  2.638548e+07\n",
      "123    ION  2.631274e+07\n",
      "124   MONA  2.552630e+07\n",
      "125    LBC  2.537820e+07\n",
      "126   PTOY  2.535638e+07\n",
      "127   TRST  2.528758e+07\n",
      "128    EB3  2.520538e+07\n",
      "129    SPR  2.500682e+07\n",
      "130  SAFEX  2.487666e+07\n",
      "131  CLOAK  2.475164e+07\n",
      "132   XAUR  2.442142e+07\n",
      "133    IXT  2.397254e+07\n",
      "134    BAY  2.357796e+07\n",
      "135  SHIFT  2.314052e+07\n",
      "136    PZM  2.306085e+07\n",
      "137    ZEN  2.274845e+07\n",
      "138   PLBT  2.258612e+07\n",
      "139   RADS  2.163197e+07\n",
      "140    SKY  2.153313e+07\n",
      "141    NXC  2.116205e+07\n",
      "142   RISE  2.115929e+07\n",
      "143    OAX  2.095820e+07\n",
      "144    PPY  2.061948e+07\n",
      "145   SOAR  2.061783e+07\n",
      "146    BLK  2.060792e+07\n",
      "147   CLAM  2.026483e+07\n",
      "536  UNITY  2.084154e+07\n",
      "\n",
      "[149 rows x 2 columns]\n",
      "\n",
      "['BTC', 'ETH', 'BCH', 'XRP', 'LTC', 'DASH', 'XEM', 'MIOTA', 'XMR', 'NEO', 'ETC', 'OMG', 'QTUM', 'HSR', 'BCC', 'STRAT', 'LSK', 'ZEC', 'WAVES', 'PAY', 'BCN', 'EOS', 'BTS', 'STEEM', 'USDT', 'MAID', 'GNT', 'REP', 'ICN', 'FCT', 'XLM', 'BAT', 'ARK', 'SC', 'DOGE', 'GBYTE', 'BNB', 'DCR', 'VERI', 'DGD', 'GNO', 'MCO', 'MTL', 'CVC', 'ZRX', 'PIVX', 'DGB', 'NXS', 'SNT', 'KMD', 'PPT', 'GAS', 'MCAP', 'GAME', 'ARDR', 'BNT', 'UBQ', 'BLOCK', 'SYS', 'FUN', 'NXT', 'ANT', 'NLC2', 'STORJ', 'BTM', 'LKK', 'BTCD', 'SNGLS', 'MGO', 'CFI', 'PART', 'TNT', 'ETP', 'ICO', 'WINGS', 'DNT', 'ADX', 'TKN', 'XAS', 'DCT', 'EDG', 'XVG', 'BQX', 'RLC', '1ST', 'PLR', 'EMC', 'MLN', 'CDT', 'PPC', 'LEO', 'NMR', 'STX', 'FRST', 'VIA', 'IOC', 'XCP', 'XEL', 'ROUND', 'NLG', 'TAAS', 'XRL', 'XZC', 'VSL', 'VTC', 'FAIR', 'RDD', 'QRL', 'NAV', 'ADT', 'MSP', 'LUN', 'SNM', 'NMC', 'PST', 'CRW', 'SAN', 'DICE', 'TCC', 'EXP', 'MYST', 'HMQ', 'POT', 'ION', 'MONA', 'LBC', 'PTOY', 'TRST', 'EB3', 'SPR', 'SAFEX', 'CLOAK', 'XAUR', 'IXT', 'BAY', 'SHIFT', 'PZM', 'ZEN', 'PLBT', 'RADS', 'SKY', 'NXC', 'RISE', 'OAX', 'PPY', 'SOAR', 'BLK', 'CLAM', 'UNITY']\n"
     ]
    }
   ],
   "source": [
    "P = df[df.MarketCap > 20e6]\n",
    "print(P, end=\"\\n\\n\")\n",
    " \n",
    "portfolio = list(P.Ticker)\n",
    "print(portfolio)"
   ]
  },
  {
   "cell_type": "code",
   "execution_count": null,
   "metadata": {
    "collapsed": true
   },
   "outputs": [],
   "source": []
  }
 ],
 "metadata": {
  "anaconda-cloud": {},
  "kernelspec": {
   "display_name": "Python [Python3]",
   "language": "python",
   "name": "Python [Python3]"
  },
  "language_info": {
   "codemirror_mode": {
    "name": "ipython",
    "version": 3
   },
   "file_extension": ".py",
   "mimetype": "text/x-python",
   "name": "python",
   "nbconvert_exporter": "python",
   "pygments_lexer": "ipython3",
   "version": "3.6.2"
  }
 },
 "nbformat": 4,
 "nbformat_minor": 2
}
